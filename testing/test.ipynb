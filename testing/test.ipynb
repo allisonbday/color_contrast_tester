{
 "cells": [
  {
   "cell_type": "markdown",
   "metadata": {},
   "source": [
    "# sources\n",
    "\n",
    "- [pinterest palette](https://www.pinterest.com/pin/585116176623557620/)\n",
    "- [graphic designer](https://www.youtube.com/shorts/okKdG81ytIM)\n",
    "- [color checker website](https://thecolorpalettestudio.com/pages/free-color-contrast-checker)\n",
    "- [adapting this package](https://github.com/ZugBahnHof/color-contrast/blob/main/color_contrast/contrast.py)"
   ]
  },
  {
   "cell_type": "code",
   "execution_count": null,
   "metadata": {},
   "outputs": [],
   "source": [
    "from PIL import ImageColor"
   ]
  },
  {
   "cell_type": "code",
   "execution_count": null,
   "metadata": {},
   "outputs": [],
   "source": [
    "color_palette = [\"#506C60\", \"#C06145\", \"#DDBFA7\", \"#F8E3D2\", \"#183425\"]\n",
    "\n",
    "\n",
    "def luminance(r, g, b):\n",
    "    return 0.2126 * r + 0.7152 * g + 0.0722 * b\n",
    "\n",
    "\n",
    "def contrast_ratio(color1, color2):\n",
    "    Y1 = luminance(*color1)\n",
    "    Y2 = luminance(*color2)\n",
    "    return max(Y1, Y2) / min(Y1, Y2)"
   ]
  },
  {
   "cell_type": "code",
   "execution_count": null,
   "metadata": {},
   "outputs": [
    {
     "data": {
      "text/plain": [
       "1.6986717649775906"
      ]
     },
     "execution_count": 32,
     "metadata": {},
     "output_type": "execute_result"
    }
   ],
   "source": [
    "ImageColor.getcolor(color_palette[0], \"RGB\")\n",
    "\n",
    "luminance(*ImageColor.getcolor(color_palette[0], \"RGB\"))\n",
    "\n",
    "\n",
    "contrast_ratio(\n",
    "    ImageColor.getcolor(color_palette[1], \"RGB\"),\n",
    "    ImageColor.getcolor(color_palette[2], \"RGB\"),\n",
    ")"
   ]
  },
  {
   "cell_type": "code",
   "execution_count": 33,
   "metadata": {},
   "outputs": [
    {
     "data": {
      "text/plain": [
       "21.0"
      ]
     },
     "execution_count": 33,
     "metadata": {},
     "output_type": "execute_result"
    }
   ],
   "source": [
    "import wcag_contrast_ratio as contrast\n",
    "\n",
    "black = (0.0, 0.0, 0.0)\n",
    "white = (1.0, 1.0, 1.0)\n",
    "contrast.rgb(black, white)"
   ]
  },
  {
   "cell_type": "code",
   "execution_count": 37,
   "metadata": {},
   "outputs": [
    {
     "data": {
      "text/plain": [
       "0.1327512576835677"
      ]
     },
     "execution_count": 37,
     "metadata": {},
     "output_type": "execute_result"
    }
   ],
   "source": [
    "# taken from https://github.com/ZugBahnHof/color-contrast/blob/main/color_contrast/contrast.py\n",
    "from colour import Color\n",
    "\n",
    "\n",
    "def get_luminance(color: Color) -> float:\n",
    "    \"\"\"\n",
    "    Calculate the relative luminance of the supplied color.\n",
    "\n",
    "    Algorithm taken from https://www.w3.org/TR/WCAG21/#dfn-relative-luminance\n",
    "\n",
    "    :param color: the color to get the luminance from\n",
    "    :type color: Color\n",
    "    :return: Luminance value\n",
    "    :rtype: float\n",
    "    \"\"\"\n",
    "\n",
    "    RsRGB, GsRGB, BsRGB = color.get_rgb()\n",
    "\n",
    "    R = RsRGB / 12.92 if RsRGB <= 0.04045 else ((RsRGB + 0.055) / 1.055) ** 2.4\n",
    "    G = GsRGB / 12.92 if GsRGB <= 0.04045 else ((GsRGB + 0.055) / 1.055) ** 2.4\n",
    "    B = BsRGB / 12.92 if BsRGB <= 0.04045 else ((BsRGB + 0.055) / 1.055) ** 2.4\n",
    "\n",
    "    luminance = 0.2126 * R + 0.7152 * G + 0.0722 * B\n",
    "\n",
    "    return luminance\n",
    "\n",
    "\n",
    "get_luminance(Color(color_palette[0]))"
   ]
  },
  {
   "cell_type": "code",
   "execution_count": null,
   "metadata": {},
   "outputs": [
    {
     "data": {
      "text/plain": [
       "2.35"
      ]
     },
     "execution_count": 49,
     "metadata": {},
     "output_type": "execute_result"
    }
   ],
   "source": [
    "def get_contrast_ratio(color1: Color, color2: Color) -> float:\n",
    "    \"\"\"\n",
    "    Calculate the contrast ratio between two colors.\n",
    "\n",
    "    Algorithm taken from https://www.w3.org/TR/WCAG21/#dfn-contrast-ratio\n",
    "\n",
    "    :param color1: the first color\n",
    "    :type color1: Color\n",
    "    :param color2: the second color\n",
    "    :type color2: Color\n",
    "    :return: Contrast ratio\n",
    "    :rtype: float\n",
    "    \"\"\"\n",
    "\n",
    "    L1 = get_luminance(color1)\n",
    "    L2 = get_luminance(color2)\n",
    "\n",
    "    # if L1 > L2:\n",
    "    #     L1, L2 = L2, L1\n",
    "\n",
    "    ratio = (L1 + 0.05) / (L2 + 0.05)\n",
    "    ratio_i = (L2 + 0.05) / (L1 + 0.05)\n",
    "\n",
    "    return round(max(ratio, ratio_i), 2)\n",
    "\n",
    "\n",
    "get_contrast_ratio(Color(color_palette[0]), Color(color_palette[4]))"
   ]
  },
  {
   "cell_type": "code",
   "execution_count": 51,
   "metadata": {},
   "outputs": [],
   "source": [
    "color_palette = [\"#506C60\", \"#C06145\", \"#DDBFA7\", \"#F8E3D2\", \"#183425\"]\n",
    "\n",
    "AccessibilityLevel = {\n",
    "    \"AA\": 4.5,\n",
    "    \"AAA\": 7.0,\n",
    "    \"AA Large\": 3.0,\n",
    "    \"AAA Large\": 4.5,\n",
    "}"
   ]
  },
  {
   "cell_type": "code",
   "execution_count": 52,
   "metadata": {},
   "outputs": [
    {
     "name": "stdout",
     "output_type": "stream",
     "text": [
      "[('#506C60', '#C06145'), ('#506C60', '#DDBFA7'), ('#506C60', '#F8E3D2'), ('#506C60', '#183425'), ('#C06145', '#DDBFA7'), ('#C06145', '#F8E3D2'), ('#C06145', '#183425'), ('#DDBFA7', '#F8E3D2'), ('#DDBFA7', '#183425'), ('#F8E3D2', '#183425')]\n"
     ]
    }
   ],
   "source": [
    "import itertools\n",
    "\n",
    "\n",
    "combinations = list(itertools.combinations(color_palette, 2))\n",
    "print(combinations)"
   ]
  },
  {
   "cell_type": "code",
   "execution_count": 55,
   "metadata": {},
   "outputs": [
    {
     "name": "stdout",
     "output_type": "stream",
     "text": [
      "Contrast ratio between #506C60 and #C06145: 1.38\n",
      "Contrast ratio between #506C60 and #C06145 is not compliant\n",
      "Contrast ratio between #506C60 and #DDBFA7: 3.31\n",
      "Contrast ratio between #506C60 and #DDBFA7 is AA Large compliant\n",
      "Contrast ratio between #506C60 and #F8E3D2: 4.63\n",
      "Contrast ratio between #506C60 and #F8E3D2 is AA compliant\n",
      "Contrast ratio between #506C60 and #183425: 2.35\n",
      "Contrast ratio between #506C60 and #183425 is not compliant\n",
      "Contrast ratio between #C06145 and #DDBFA7: 2.4\n",
      "Contrast ratio between #C06145 and #DDBFA7 is not compliant\n",
      "Contrast ratio between #C06145 and #F8E3D2: 3.36\n",
      "Contrast ratio between #C06145 and #F8E3D2 is AA Large compliant\n",
      "Contrast ratio between #C06145 and #183425: 3.24\n",
      "Contrast ratio between #C06145 and #183425 is AA Large compliant\n",
      "Contrast ratio between #DDBFA7 and #F8E3D2: 1.4\n",
      "Contrast ratio between #DDBFA7 and #F8E3D2 is not compliant\n",
      "Contrast ratio between #DDBFA7 and #183425: 7.76\n",
      "Contrast ratio between #DDBFA7 and #183425 is AA compliant\n",
      "Contrast ratio between #F8E3D2 and #183425: 10.86\n",
      "Contrast ratio between #F8E3D2 and #183425 is AA compliant\n"
     ]
    }
   ],
   "source": [
    "for color1, color2 in combinations:\n",
    "    contrast_ratio = get_contrast_ratio(Color(color1), Color(color2))\n",
    "    print(f\"Contrast ratio between {color1} and {color2}: {contrast_ratio}\")\n",
    "    for level, ratio in AccessibilityLevel.items():\n",
    "        if contrast_ratio >= ratio:\n",
    "            print(f\"Contrast ratio between {color1} and {color2} is {level} compliant\")\n",
    "            break\n",
    "    else:\n",
    "        print(f\"Contrast ratio between {color1} and {color2} is not compliant\")"
   ]
  },
  {
   "cell_type": "code",
   "execution_count": 69,
   "metadata": {},
   "outputs": [
    {
     "data": {
      "image/png": "[encoded data removed]",
      "text/plain": [
       "<PIL.Image.Image image mode=RGB size=500x100>"
      ]
     },
     "execution_count": 69,
     "metadata": {},
     "output_type": "execute_result"
    }
   ],
   "source": [
    "from PIL import Image\n",
    "from PIL import ImageDraw\n",
    "\n",
    "color_palette = [\"#506C60\", \"#C06145\", \"#DDBFA7\", \"#F8E3D2\", \"#183425\"]\n",
    "\n",
    "images = [\n",
    "    Image.new(\"RGB\", (int(500 / len(color_palette)), 100), color=x)\n",
    "    for x in color_palette\n",
    "]\n",
    "\n",
    "new_im = Image.new(\"RGB\", (500, 100))\n",
    "\n",
    "x_offset = 0\n",
    "for im in images:\n",
    "    new_im.paste(im, (x_offset, 0))\n",
    "    x_offset += im.size[0]\n",
    "\n",
    "new_im"
   ]
  }
 ],
 "metadata": {
  "kernelspec": {
   "display_name": "Python 3",
   "language": "python",
   "name": "python3"
  },
  "language_info": {
   "codemirror_mode": {
    "name": "ipython",
    "version": 3
   },
   "file_extension": ".py",
   "mimetype": "text/x-python",
   "name": "python",
   "nbconvert_exporter": "python",
   "pygments_lexer": "ipython3",
   "version": "3.11.1"
  }
 },
 "nbformat": 4,
 "nbformat_minor": 2
}
